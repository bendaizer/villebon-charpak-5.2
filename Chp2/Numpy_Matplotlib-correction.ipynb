{
 "cells": [
  {
   "cell_type": "markdown",
   "metadata": {
    "collapsed": true
   },
   "source": [
    "# Librairies scientifiques\n",
    "\n",
    "A l'issue de cette séance, vous serez plus à l'aise avec deux des  librairies que nous utiliserons régulièrement : numpy et matplotlib.\n",
    "\n",
    "Nous allons commencer par voir comment la structure numpy.array facilite certaines opérations courantes, en reprenant les exercices vu précédemment."
   ]
  },
  {
   "cell_type": "code",
   "execution_count": 36,
   "metadata": {
    "collapsed": true
   },
   "outputs": [],
   "source": [
    "# La cellule suivante reviendra régulièrement dans les différents notebooks\n",
    "import numpy as np\n",
    "import matplotlib.pyplot as plt\n",
    "%matplotlib inline "
   ]
  },
  {
   "cell_type": "markdown",
   "metadata": {},
   "source": [
    "`%matplotlib inline ` : cette ligne permet de générer les graphes au sein du notebook au lieu d'ouvrir une nouvelle fenêtre"
   ]
  },
  {
   "cell_type": "code",
   "execution_count": 37,
   "metadata": {},
   "outputs": [
    {
     "name": "stdout",
     "output_type": "stream",
     "text": [
      "[ 0  1  2  3  4  5  6  7  8  9 10 11 12 13 14 15 16 17 18 19]\n"
     ]
    }
   ],
   "source": [
    "v = np.arange(20)\n",
    "print(v)"
   ]
  },
  {
   "cell_type": "code",
   "execution_count": 38,
   "metadata": {},
   "outputs": [
    {
     "data": {
      "text/plain": [
       "(20,)"
      ]
     },
     "execution_count": 38,
     "metadata": {},
     "output_type": "execute_result"
    }
   ],
   "source": [
    "v.shape"
   ]
  },
  {
   "cell_type": "code",
   "execution_count": 39,
   "metadata": {},
   "outputs": [
    {
     "name": "stdout",
     "output_type": "stream",
     "text": [
      "[[ 0  1]\n",
      " [ 2  3]\n",
      " [ 4  5]\n",
      " [ 6  7]\n",
      " [ 8  9]\n",
      " [10 11]\n",
      " [12 13]\n",
      " [14 15]\n",
      " [16 17]\n",
      " [18 19]]\n"
     ]
    }
   ],
   "source": [
    "print(v.reshape(10,2))"
   ]
  },
  {
   "cell_type": "code",
   "execution_count": 40,
   "metadata": {},
   "outputs": [
    {
     "name": "stdout",
     "output_type": "stream",
     "text": [
      "[[ 0  1  2  3  4  5  6  7  8  9]\n",
      " [10 11 12 13 14 15 16 17 18 19]]\n"
     ]
    }
   ],
   "source": [
    "print(v.reshape(2,10))"
   ]
  },
  {
   "cell_type": "code",
   "execution_count": 41,
   "metadata": {},
   "outputs": [
    {
     "name": "stdout",
     "output_type": "stream",
     "text": [
      "[[ 0 10]\n",
      " [ 1 11]\n",
      " [ 2 12]\n",
      " [ 3 13]\n",
      " [ 4 14]\n",
      " [ 5 15]\n",
      " [ 6 16]\n",
      " [ 7 17]\n",
      " [ 8 18]\n",
      " [ 9 19]]\n"
     ]
    }
   ],
   "source": [
    "print(v.reshape(2,10).T)"
   ]
  },
  {
   "cell_type": "code",
   "execution_count": 42,
   "metadata": {},
   "outputs": [
    {
     "name": "stdout",
     "output_type": "stream",
     "text": [
      "9.5\n",
      "9.5\n"
     ]
    }
   ],
   "source": [
    "# afficher la moyenne de v\n",
    "print(np.mean(v)) #ici on appelle une fonction du module numpy\n",
    "print(v.mean()) #ici on appelle une méthode de classe appliquée à l'instance"
   ]
  },
  {
   "cell_type": "code",
   "execution_count": 43,
   "metadata": {},
   "outputs": [
    {
     "name": "stdout",
     "output_type": "stream",
     "text": [
      "9.5\n"
     ]
    }
   ],
   "source": [
    "# afficher la mediane de v\n",
    "print(np.median(v))"
   ]
  },
  {
   "cell_type": "code",
   "execution_count": 44,
   "metadata": {},
   "outputs": [
    {
     "name": "stdout",
     "output_type": "stream",
     "text": [
      "49.5\n",
      "49.5\n",
      "49.5\n",
      "323400\n",
      "323400\n",
      "323400\n",
      "323400\n",
      "0.008925573128303527\n"
     ]
    }
   ],
   "source": [
    "v = np.arange(100)\n",
    "\n",
    "# afficher la moyenne de v\n",
    "print(np.mean(v))\n",
    "print(v.mean())\n",
    "\n",
    "# afficher la mediane de v\n",
    "print(np.median(v))\n",
    "\n",
    "# calculer le produit scalaire de v et de u, et l'angle entre les 2 vecteurs\n",
    "u = v - 1\n",
    "\n",
    "print(u.dot(v))\n",
    "print(np.dot(u,v))\n",
    "print(np.inner(u,v))\n",
    "print(np.vdot(u,v))\n",
    "\n",
    "print(np.arccos(u.dot(v)/np.sqrt(u.dot(u))/np.sqrt(v.dot(v))))"
   ]
  },
  {
   "cell_type": "markdown",
   "metadata": {},
   "source": [
    "`np.median` s'utilise comme une méthode de classe, ie elle est à partir du module numpy et non à partir de l'instance `v`.\n",
    "\n",
    "`np.mean` peut également être utilisé comme méthode de classe, mais dans ce cas il faut préciser l'argument\n",
    "\n",
    "Notez la différence entre\n",
    "```\n",
    "v.mean()\n",
    "np.mean(v)\n",
    "```\n",
    "\n",
    "Dans le premier cas, `mean` est appelé depuis l'instance `v`, à laquelle sont déjà associée des données. La fonction sait donc quelles valeurs elle prend en paramètre"
   ]
  },
  {
   "cell_type": "markdown",
   "metadata": {},
   "source": [
    "Numpy permet d'opérer directement sur l'array pour des opérations algébriques, au lieu de boucler sur tous les éléments.\n",
    "\n",
    "Il fournit également des fonctions \"vectorialisée\", qui prennnent un array en entrée et retourne un array en sortie avec la fonction appliquée à chaque entrée"
   ]
  },
  {
   "cell_type": "code",
   "execution_count": 45,
   "metadata": {},
   "outputs": [
    {
     "name": "stdout",
     "output_type": "stream",
     "text": [
      "[0.0, 1.0, 1.4142135623730951, 1.7320508075688772, 2.0, 2.23606797749979, 2.449489742783178, 2.6457513110645907, 2.8284271247461903, 3.0]\n"
     ]
    }
   ],
   "source": [
    "from math import sqrt\n",
    "print([sqrt(x) for x in range(10)])"
   ]
  },
  {
   "cell_type": "code",
   "execution_count": 46,
   "metadata": {},
   "outputs": [
    {
     "data": {
      "text/plain": [
       "array([0.        , 1.        , 1.41421356, 1.73205081, 2.        ,\n",
       "       2.23606798, 2.44948974, 2.64575131, 2.82842712, 3.        ])"
      ]
     },
     "execution_count": 46,
     "metadata": {},
     "output_type": "execute_result"
    }
   ],
   "source": [
    "np.sqrt(range(10))"
   ]
  },
  {
   "cell_type": "markdown",
   "metadata": {},
   "source": [
    "## Modèle linéaire\n",
    "\n",
    "Nous allons illustrer quelques principes fondamentaux à l'aide de nos nouvelles connaissances en Python. La régression linéaire est l'exemple royal pour cet exercice, et nous permettra de nous familiariser avec de nombreux sujets, sans être noyés par la complexité du modèle, qui reste l'un des plus simple.\n",
    "\n",
    "$$y \\sim f_{\\theta}(x)$$\n",
    "\n",
    "avec comme fonction f une forme linéaire\n",
    "\n",
    "$$f_{\\theta}(x) = \\theta_0 + \\theta_1 x +\\epsilon $$\n",
    "\n",
    "\n",
    "On introduit $\\epsilon$ un terme d'erreur qui prend en compte la nature probabiliste des données, et leur déviation du modèle idéal.\n",
    "\n",
    "\n",
    "### Hypothèses du modèle linéaire\n",
    "\n",
    "* les erreurs suivent une loi normale de moyenne nulle\n",
    "* la variance est la même pour tous (homoscédasticité) : la variance est la même pour l'ensemble des termes d'erreures gaussiens\n",
    "$Var(\\epsilon_i)=\\sigma$\n",
    "* les termes d'erreurs pour les différents $x_i$ sont indépendants les uns des autres\n",
    "\n"
   ]
  },
  {
   "cell_type": "markdown",
   "metadata": {},
   "source": [
    "Afin de nous familiariser avec ce modèle, nous allons générer des points qui obéissent aux équations définies ci-dessus, et les représenter graphiquement"
   ]
  },
  {
   "cell_type": "markdown",
   "metadata": {},
   "source": [
    "Commençons par définir un vecteur X qui est notre variable indépendante, **variant aléatoirement entre 0 et 10**, nous pouvons procéder de différentes façons\n",
    "1. Avec une boucle\n",
    "1. Avec une list comprehension\n",
    "1. En utilisant le module numpy"
   ]
  },
  {
   "cell_type": "code",
   "execution_count": 47,
   "metadata": {
    "collapsed": true
   },
   "outputs": [],
   "source": [
    "from random import random\n",
    "import numpy as np\n",
    "import matplotlib.pyplot as plt\n",
    "%matplotlib inline"
   ]
  },
  {
   "cell_type": "markdown",
   "metadata": {},
   "source": [
    "avec une boucle"
   ]
  },
  {
   "cell_type": "code",
   "execution_count": 48,
   "metadata": {},
   "outputs": [
    {
     "name": "stdout",
     "output_type": "stream",
     "text": [
      "<class 'list'>\n",
      "[0.9780915553068636, 4.157228427938074, 5.794515845664693, 9.21396178353582, 7.265845823515894, 0.7742131936368601, 9.825374864593705, 0.2059869983195084, 8.729935441293756, 4.823515289809535, 4.301110761199148, 6.3806054423756855, 9.57044125789131, 3.3360349881958538, 8.420347255625272, 9.089180603967518, 3.0617960505742, 8.344025325519764, 9.241903830072983, 9.490922474259843, 4.3127950157722585, 8.288310573204011, 2.591306657042934, 1.430858137843054, 9.397334153348488, 5.726841622095062, 2.0269663121248005, 6.379802314570226, 4.175394941988664, 1.6397677949382028, 7.92369904363145, 6.274583253045563, 9.297910545307586, 0.7012972357182234, 4.102592624137602, 1.6358067532163612, 2.577223348321278, 2.915398028074787, 4.830653951890622, 4.599988996872746, 9.77699399519735, 7.30498676943013, 6.497367242221323, 6.849159380545608, 2.6420095299968525, 4.040526082530894, 6.708300115004904, 2.8193724869962256, 7.885644051079026, 9.475132648371051, 9.286466482459637, 3.3681961687498885, 9.32112768592842, 7.722729791345434, 5.020507098649495, 1.3759925230203307, 2.441052602782865, 8.967688035064256, 8.114352456941704, 6.642174003166362, 3.642289008998556, 1.702405942174191, 2.675198913277189, 2.677058492416805, 6.84472924524974, 5.299145392773105, 5.166141324981126, 5.018092785807628, 4.662721041964643, 6.9333154069974325, 0.048346000537387024, 7.777824018351122, 4.330736129809746, 6.159320062933107, 1.8483213223976225, 7.999947482998923, 0.8277130949265554, 3.0972342245377815, 5.4158652794083295, 5.579996637286333, 6.669015670491831, 5.060425428075803, 2.5467289823304187, 0.19919062424410994, 3.7926394933450727, 5.883962603061991, 7.834610356320057, 4.443084608133665, 8.359397932707981, 6.878898164280864, 2.382226253422072, 1.9747210344926702, 4.519844991550399, 0.8077423683042673, 4.219730580256968, 4.1392313508763365, 1.9238661249227984, 1.3618900570578174, 8.236933450957634, 9.020440894263446, 8.125394381706046, 2.540298639277178, 2.1044962861910976, 2.9181066929104773, 0.5482145591759124, 7.861739882457632, 5.019835299069294, 6.380952220143303, 3.5576437323367402, 5.819416796543929, 0.11757640339308928, 5.577151642172812, 1.8720186166795183, 0.4687818672340005, 8.869796382231339, 6.5829453147952135, 8.325994436689545, 8.11201383915996, 7.773418267188013, 8.951806859423781, 1.4988044490187025, 0.7658017533481132, 0.12229704807197539, 7.199191820601122, 0.8065138764554702, 2.139162898160325, 3.3904496204291688, 2.781655758953414, 6.962976222651843, 5.725904792617095, 0.9458350064347321, 1.3283115364212528, 6.523184742763916, 2.425467072429223, 9.54187188535755, 6.539847531034909, 0.9491339573927282, 4.042882073611155, 0.9665358932731094, 1.2288752939565162, 5.721900064000719, 7.531951272995744, 2.9371266067979143, 6.503643779038971, 4.066991470589328, 0.13329071924526814, 2.0713040194941232, 9.262111237478383, 1.0753163157726886, 8.475644556227614, 2.065538671422278, 8.644169222255185, 2.782373837946992, 5.694869732419297, 5.500959159444715, 9.455317242586895, 9.157887784028148, 7.646397234394662, 6.476669792950963, 6.140523198760226, 0.6196485372590499, 6.462217389175064, 0.1585234476710362, 9.038475585719786, 3.017541373327041, 2.203868469950747, 6.104045525244695, 0.7837979938661588, 5.292091763445135, 7.520334919883943, 6.535793004540771, 4.789042967645459, 4.097567707359823, 7.906065463784269, 5.9634944618448085, 6.580195175965469, 5.573497090250528, 0.1015298141156562, 1.1623951686309197, 1.978113855654815, 8.256308781781522, 8.2788392032447, 4.26863595665957, 2.71239390393759, 3.010349815492017, 1.7582864846792579, 3.3605234644090687, 4.889878627339876, 8.402235137308226, 5.9359133185606225, 2.759685397380216, 9.827197690560652, 4.147432199453452, 4.344082299766132, 3.9081229901770476, 1.6537306578841815, 2.021862221336146, 4.10977632169799, 2.0412130716043277, 6.1483438712789305, 6.840230203009626, 6.809795270120733, 2.832605942298624, 7.9108897410187575, 6.637713619719589, 0.4512385069923619, 2.284471864923747, 0.3657275573689478, 5.762092602492275, 2.815242970541356, 8.462729087272319, 9.63532643908189, 8.724421618450691, 6.528168454944994, 4.848391894073129, 3.3738976872058144, 6.330180669695839, 7.663805058497005, 6.395733361538741, 1.350282322568468, 5.611512224542344, 8.919837924428926, 6.350690062207232, 4.147873637489564, 0.11754564417992386, 3.830584302328224, 5.696467151073806, 5.809903108287553, 8.96644348678844, 0.052644247116498954, 3.9474550233078864, 6.626572778962789, 5.950749038482939, 7.938901795581788, 2.765773046814731, 4.76261434733844, 4.101165617349386, 8.092214227030908, 8.148143475156388, 5.764421639580698, 5.5137501423491315, 2.3369930317529164, 9.312320948865068, 7.804988837422702, 6.14520024116266, 1.2468314102450695, 8.35159219949279, 0.4895895158655539, 1.232942353855483, 1.2505524922528166]\n"
     ]
    }
   ],
   "source": [
    "x = []\n",
    "N=250\n",
    "for i in range(N):\n",
    "    x.append(10*random())\n",
    "\n",
    "print(type(x))\n",
    "print(x)"
   ]
  },
  {
   "cell_type": "markdown",
   "metadata": {},
   "source": [
    "avec une compréhension de liste"
   ]
  },
  {
   "cell_type": "code",
   "execution_count": 49,
   "metadata": {},
   "outputs": [
    {
     "name": "stdout",
     "output_type": "stream",
     "text": [
      "<class 'list'>\n",
      "[2.769669311807198, 5.751699230349143, 1.4105991851197242, 1.2565414642382933, 6.681779538699949, 8.344233701177986, 2.499221053913001, 3.574120310951394, 5.121936291758392, 5.48865557340191, 2.635065820713216, 8.080297729562371, 4.312079757618884, 0.08205644821363878, 0.5220398752601796, 1.722464237719914, 8.54560601325698, 1.6291154370297312, 5.487976781153325, 4.727535121765518, 3.381531752556951, 1.904192727719869, 1.4406938711312467, 6.927490171850009, 7.853920944551178, 8.438795832887319, 1.1441845291866592, 9.916549122747147, 9.20082212788525, 2.9351532121637014, 0.40660234479584223, 0.9575247398093367, 3.1040191647739555, 2.2086940173076397, 0.07790354235997277, 5.515582648777743, 7.904353754737649, 6.8271487714799015, 9.256663262844768, 9.304726973606277, 1.6610211316904244, 4.967918894000961, 3.4170575020493055, 6.756263980092002, 1.9581710593514912, 2.689316422937452, 5.764669236189999, 2.623208888495733, 0.22062506946362692, 7.4426611453404945, 2.5287766969306125, 7.903269856689103, 6.079621143737364, 9.247738364678579, 4.155383876562402, 1.3625510544483188, 0.5587952514231009, 8.742271386307559, 9.768891822831813, 1.7695832940975398, 7.59822089829187, 6.661829806986365, 0.2452956892318403, 7.570701803364549, 3.7831646347548387, 1.4822047660441073, 2.5963128668625233, 9.668435326988746, 0.5362823820635898, 5.527612148465666, 1.9257095747124886, 4.4255085451894125, 4.61711412720973, 5.624373214850103, 6.862784485993316, 5.186197604217785, 0.887834567862934, 5.643967650461704, 2.5929014243960067, 6.872467007206389, 2.7183333824828027, 0.7722873092202864, 5.328486319688436, 0.6342999397409255, 1.143117822114833, 5.425564661718543, 2.449148121635961, 6.0115949305887115, 9.485700018463374, 8.55703763712352, 3.716292904344336, 7.149219774343588, 5.915961254693229, 1.3889866932962702, 4.282332456319499, 2.4231327127774707, 5.89588246607891, 2.3645733987080364, 0.6022242942168654, 0.5099189687612815, 7.846441942506632, 3.1418865816374373, 9.375228248930439, 4.961504942674929, 4.938619316405131, 6.3965792522964975, 2.1857597480493762, 8.860010514854487, 2.5627732106389978, 6.724360332214111, 6.528049108385041, 1.3880223934356384, 0.6856138446395565, 1.8824035465185929, 7.8433097491349315, 4.276075983293575, 4.326213387507968, 9.71520434680066, 2.419836691771573, 4.9711418571978, 7.700370605787872, 3.099024229517613, 7.826974784475963, 8.969692662154921, 4.258262886867962, 3.5733794635497707, 1.38316154634189, 3.404049612432946, 1.4833132082252776, 6.327588796661575, 1.2800669831177414, 2.641312128797572, 1.909857631063524, 0.18717048160837302, 8.522667466554697, 5.117128880409219, 3.1127935013746724, 1.7533920761180466, 0.4116792953275128, 4.183595169299904, 9.712619497776373, 8.798490030700426, 9.831944399521381, 7.205339496843744, 9.073975934090853, 9.954370591649749, 9.623626331952412, 2.0541584746521755, 2.045980269393457, 5.0645227804325375, 8.782029319526819, 7.394525724840639, 8.27796338845393, 6.839145397562278, 5.774015378592917, 9.006594140487046, 5.806114613023896, 8.958207871974462, 0.2183508711710358, 7.049770175847106, 3.880130249548177, 9.866348275066008, 1.3096256620310176, 9.389232581064386, 5.076837814226431, 2.1654760597333245, 6.840588111447557, 3.8045612177091948, 0.944161997957661, 6.515218883301825, 3.3036630568342384, 9.534187180190896, 5.771141751811298, 3.1153754423712754, 9.500152780327445, 1.4311041691791937, 5.477309149233591, 8.609865870092124, 2.246972412060467, 0.7785993679091041, 2.972738290660266, 6.383475971010265, 3.789931594680671, 7.112701313231181, 4.231453763333245, 0.2158970302528973, 7.102028076503007, 9.875606799166981, 9.265316597000382, 4.670128502373948, 5.758810775902, 7.9188330255895405, 2.4748273003739185, 3.4697859237973483, 7.791420217271115, 0.026799451608986447, 2.986491326033768, 4.86087602483929, 9.86721896628061, 2.296831728286164, 0.23047651585926476, 0.700967135063989, 8.064467075572237, 8.699650434138785, 9.700835639642982, 2.014432854011905, 2.607259527899232, 7.9497326665247, 1.1764170319674994, 5.612519485296573, 6.079665520639064, 3.7945854698390336, 7.521258023040268, 7.612241285280969, 4.225623397149086, 7.296000537163055, 1.1499006457060812, 2.759636096586725, 2.7741612088327905, 9.261277600045592, 5.780662542668866, 2.6616404385344152, 2.3092831799563776, 4.684946453612478, 0.150401295833128, 5.4685552022845965, 2.294521805509323, 2.361778059633183, 8.087051852043622, 0.7583235430468216, 9.900111403304402, 9.739011802333685, 2.287988228150292, 2.5879527474280573, 6.682880665233996, 6.777036957808237, 5.707704073135178, 5.174499264536915, 0.31465528864708436, 6.138294258475337, 2.4706698024854723, 2.818106057294499, 1.1711105395021737, 7.945891162648006, 6.3312596660069955, 1.5878666516578788, 4.648155449623182, 6.960175793295155, 5.339692934451486, 6.401845728300596]\n"
     ]
    }
   ],
   "source": [
    "x = [10*random() for i in range(N)]\n",
    "\n",
    "print(type(x))\n",
    "print(x)"
   ]
  },
  {
   "cell_type": "markdown",
   "metadata": {},
   "source": [
    "avec numpy"
   ]
  },
  {
   "cell_type": "code",
   "execution_count": 50,
   "metadata": {},
   "outputs": [
    {
     "name": "stdout",
     "output_type": "stream",
     "text": [
      "<class 'numpy.ndarray'>\n",
      "[6.95016302 5.00779586 2.59189666 7.41269093 7.75928084 5.38566687\n",
      " 6.93077171 4.59321145 3.62872384 6.76699174 6.55321463 6.79930066\n",
      " 6.04317097 0.86345953 5.05641868 5.27006151 2.09063662 0.68012527\n",
      " 2.86398453 6.08055373 4.31391113 1.56183633 5.77846026 8.34005869\n",
      " 7.66341752 8.41132898 1.99295704 3.35027273 2.76428173 9.11457413\n",
      " 4.267639   1.81958465 8.04986834 4.09587533 9.55980119 5.77450331\n",
      " 7.69674486 5.36330687 7.90028575 3.16642497 5.05151588 2.83213997\n",
      " 0.12896309 0.639444   7.02967723 9.09072234 8.56274814 0.09949321\n",
      " 1.40703925 0.94481434 1.22970788 4.30373064 9.49128344 2.12785738\n",
      " 2.75295384 4.28831036 4.33403452 2.80010326 4.53806967 8.02652461\n",
      " 5.85506415 0.34187557 4.16339287 8.5956808  9.44372673 4.86103612\n",
      " 3.28678274 6.46792753 0.84248156 2.70153416 4.36005128 5.87628105\n",
      " 8.76541638 3.50103658 9.40350825 3.68332898 6.86573815 0.4453014\n",
      " 9.23686945 0.48041603 0.14953947 8.14239273 8.43982209 0.88329964\n",
      " 7.64115196 2.92578894 6.71445941 0.17484984 1.30132611 4.9971174\n",
      " 7.54264159 7.672267   4.45742337 7.70702393 2.32746734 4.68791499\n",
      " 9.17917601 4.08847754 9.55005183 3.87354869 4.07922587 1.71747661\n",
      " 1.32840067 0.34540262 4.34726707 7.91356253 3.19893582 0.70866917\n",
      " 1.38728949 6.87964307 4.98004795 8.52648852 6.50019868 0.97219689\n",
      " 0.93331359 2.78473716 0.77878018 8.53632603 0.9180313  9.4402064\n",
      " 8.38475935 6.20688518 6.34325459 1.49873086 8.51113753 0.2675996\n",
      " 5.66591336 1.59374139 5.18973439 4.17695885 6.1760597  5.1367785\n",
      " 3.32823856 8.50202822 3.37393496 4.23666793 3.10505684 9.17503732\n",
      " 3.36401335 7.1383864  5.00712665 0.67292571 2.91007702 7.21333687\n",
      " 4.26117082 5.97731501 1.81572415 2.24265285 5.65366647 1.44461823\n",
      " 1.17420292 9.47944836 5.9892619  8.58053054 9.6575555  9.43396071\n",
      " 6.14952724 1.00961624 0.48871838 1.68211951 1.34389546 9.42924048\n",
      " 0.80036371 8.85570118 6.04945428 3.9530977  4.35908741 3.04166951\n",
      " 3.62331528 9.29911956 1.68935692 4.97523865 7.07897603 9.72117166\n",
      " 4.01470919 9.85605149 6.77044218 4.98740879 2.61349269 9.08602239\n",
      " 6.30744802 2.25613341 1.34887144 9.71128096 9.37049944 7.53653647\n",
      " 4.13030707 3.18515717 0.51605616 9.91519821 0.8253059  8.64150375\n",
      " 3.23072037 6.64136237 4.30202634 8.99022319 5.46005387 6.4392947\n",
      " 7.81844028 6.78293947 3.04562575 7.05087522 3.62379375 2.47461915\n",
      " 4.38977196 5.82264903 5.10456858 4.83776262 0.31776278 1.37801016\n",
      " 9.00987344 5.88752389 7.96440742 2.29708283 5.56103731 4.90968489\n",
      " 9.95500093 7.10839109 1.29839936 3.04541497 1.26280483 8.95446825\n",
      " 9.84363673 8.66220175 8.95538697 6.48254703 3.40096672 8.21324203\n",
      " 0.59035533 3.9436818  7.63956402 2.49049924 3.82533281 8.7193759\n",
      " 8.44828    2.11996211 8.61529641 8.77686647 0.22943844 6.78929518\n",
      " 5.11620471 7.17318243 2.27222484 2.42146468 1.90072229 7.88618699\n",
      " 0.06553643 3.6211906  3.16248391 4.5927381 ]\n"
     ]
    }
   ],
   "source": [
    "x = 10*np.random.random(N)\n",
    "\n",
    "print(type(x))\n",
    "print(x)"
   ]
  },
  {
   "cell_type": "markdown",
   "metadata": {},
   "source": [
    "Représenter l'histogramme des valeurs prises par la variable aléatoire X"
   ]
  },
  {
   "cell_type": "code",
   "execution_count": 51,
   "metadata": {},
   "outputs": [
    {
     "data": {
      "image/png": "[encoded data removed]",
      "text/plain": [
       "<matplotlib.figure.Figure at 0x1f06f845b38>"
      ]
     },
     "metadata": {},
     "output_type": "display_data"
    }
   ],
   "source": [
    "plt.hist(x, bins=50)\n",
    "plt.show()"
   ]
  },
  {
   "cell_type": "markdown",
   "metadata": {},
   "source": [
    "Représenter la droite y = 5x + 1"
   ]
  },
  {
   "cell_type": "code",
   "execution_count": 52,
   "metadata": {},
   "outputs": [
    {
     "data": {
      "text/plain": [
       "<matplotlib.collections.PathCollection at 0x1f06f8fd0f0>"
      ]
     },
     "execution_count": 52,
     "metadata": {},
     "output_type": "execute_result"
    },
    {
     "data": {
      "image/png": "[encoded data removed]",
      "text/plain": [
       "<matplotlib.figure.Figure at 0x1f06f8b2320>"
      ]
     },
     "metadata": {},
     "output_type": "display_data"
    }
   ],
   "source": [
    "plt.scatter(x, 5*x+1)"
   ]
  },
  {
   "cell_type": "markdown",
   "metadata": {},
   "source": [
    "### Bruit gaussien\n",
    "\n",
    "Dans le monde réel les données sont toujours entachées de bruits. Nous considérons ici que le bruit est gaussien.\n",
    "\n",
    "Pour rappel, la densité de probabilité gaussienne/normale :  \n",
    "$$p(x) = \\frac{1}{\\sqrt{2 \\pi \\sigma^2}}e^{-\\frac{(x-\\mu)^2}{2 \\sigma^2}}$$\n",
    "\n",
    "Nous pouvons échantiller depuis une loi normale avec la fonction `normalvariate` du module `random` standard, ou utiliser encore une fois `numpy`"
   ]
  },
  {
   "cell_type": "code",
   "execution_count": 53,
   "metadata": {},
   "outputs": [
    {
     "data": {
      "image/png": "[encoded data removed]",
      "text/plain": [
       "<matplotlib.figure.Figure at 0x1f06e7f7358>"
      ]
     },
     "metadata": {},
     "output_type": "display_data"
    }
   ],
   "source": [
    "from random import normalvariate\n",
    "y_normal = [normalvariate(0,1) for i in range(10000)] #ceci est une boucle\n",
    "plt.hist(y_normal, bins=50, normed=True)\n",
    "plt.show()"
   ]
  },
  {
   "cell_type": "markdown",
   "metadata": {},
   "source": [
    "`normalvariate` génère une valeur à chaque fois (théoriquement entre $-\\infty$ et $+\\infty$). La probabilité que cette valeur soit dans un certain intervalle est donnée par $Pr(x_1<x<x_2) = \\int_{x_1}^{x_2} p(x).dx $\n",
    "\n",
    "<img src=\"img/Standard_deviation_diagram.svg.png\">"
   ]
  },
  {
   "cell_type": "markdown",
   "metadata": {},
   "source": [
    "Refaisons le même exercice avec numpy et sans boucle"
   ]
  },
  {
   "cell_type": "code",
   "execution_count": 54,
   "metadata": {},
   "outputs": [
    {
     "data": {
      "image/png": "[encoded data removed]",
      "text/plain": [
       "<matplotlib.figure.Figure at 0x1f06e833160>"
      ]
     },
     "metadata": {},
     "output_type": "display_data"
    }
   ],
   "source": [
    "plt.hist(np.random.normal(size=10000), bins=50, normed=True)\n",
    "plt.show()"
   ]
  },
  {
   "cell_type": "code",
   "execution_count": 55,
   "metadata": {
    "collapsed": true
   },
   "outputs": [],
   "source": [
    "def linear(x, params=(0,1)):\n",
    "    \"\"\"Generate a linear function f(x)=a*x+b+N(0,1)\n",
    "    \n",
    "    Args:\n",
    "        x (numpy.array()) : vector used to generate the output\n",
    "        params (tuple of size 2) : b=params[0] and a=params[1]\n",
    "    \n",
    "    Returns:\n",
    "        numpy.array()\n",
    "    \"\"\"\n",
    "    return params[1]*x+params[0]+np.random.normal(size=len(x))"
   ]
  },
  {
   "cell_type": "code",
   "execution_count": 56,
   "metadata": {},
   "outputs": [
    {
     "data": {
      "image/png": "[encoded data removed]",
      "text/plain": [
       "<matplotlib.figure.Figure at 0x1f06f994470>"
      ]
     },
     "metadata": {},
     "output_type": "display_data"
    }
   ],
   "source": [
    "plt.scatter(x, linear(x))\n",
    "plt.show()"
   ]
  },
  {
   "cell_type": "code",
   "execution_count": 57,
   "metadata": {},
   "outputs": [
    {
     "data": {
      "image/png": "[encoded data removed]",
      "text/plain": [
       "<matplotlib.figure.Figure at 0x1f06f91d4a8>"
      ]
     },
     "metadata": {},
     "output_type": "display_data"
    },
    {
     "data": {
      "image/png": "[encoded data removed]",
      "text/plain": [
       "<matplotlib.figure.Figure at 0x1f06fb4a4e0>"
      ]
     },
     "metadata": {},
     "output_type": "display_data"
    }
   ],
   "source": [
    "plt.scatter(x, linear(x, (0,10)))\n",
    "plt.scatter(x, linear(x, (20,10)))\n",
    "plt.figure() #on instancie un nouvel objet figure, pour ne pas mélanger les prochains graphes avec les précédents\n",
    "plt.scatter(x, linear(x, (20,100)))\n",
    "plt.show()"
   ]
  },
  {
   "cell_type": "markdown",
   "metadata": {},
   "source": [
    "## Synthèse\n",
    "\n",
    "À l'issue de ce cours, vous savez manipulez des array de numpy (et faites la distinction avec les listes, les sets et les tuples), faire des opérations algébriques, afficher des scatter plot et des histogrammes et générer des échantillons aléatoires de points."
   ]
  }
 ],
 "metadata": {
  "kernelspec": {
   "display_name": "Python 3",
   "language": "python",
   "name": "python3"
  },
  "language_info": {
   "codemirror_mode": {
    "name": "ipython",
    "version": 3
   },
   "file_extension": ".py",
   "mimetype": "text/x-python",
   "name": "python",
   "nbconvert_exporter": "python",
   "pygments_lexer": "ipython3",
   "version": "3.7.4"
  }
 },
 "nbformat": 4,
 "nbformat_minor": 1
}
