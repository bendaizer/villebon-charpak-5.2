{
 "cells": [
  {
   "cell_type": "markdown",
   "metadata": {},
   "source": [
    "# Exercices additionnels sur le langage python"
   ]
  },
  {
   "cell_type": "markdown",
   "metadata": {},
   "source": [
    "### Garder les éléments uniques d'une liste\n",
    "\n",
    "Il est facile de dédupliquer une liste en la transformant en `set`:"
   ]
  },
  {
   "cell_type": "code",
   "execution_count": 25,
   "metadata": {},
   "outputs": [
    {
     "data": {
      "text/plain": [
       "{'a', 'b'}"
      ]
     },
     "execution_count": 25,
     "metadata": {},
     "output_type": "execute_result"
    }
   ],
   "source": [
    "L = ['a', 'a', 'b']\n",
    "set(L) #renvoie {'a', 'b'}"
   ]
  },
  {
   "cell_type": "markdown",
   "metadata": {},
   "source": [
    "Le but de cet exercice est d'obtenir le même résultat, mais en écrivant votre propre code, sans utiliser l'astuce précédente, et en manipulant uniquement des listes."
   ]
  },
  {
   "cell_type": "code",
   "execution_count": 26,
   "metadata": {},
   "outputs": [],
   "source": [
    "def dedup(L):\n",
    "    new_list = []\n",
    "    for l in L:\n",
    "        if not l in new_list:\n",
    "            new_list.append(l)\n",
    "    return new_list"
   ]
  },
  {
   "cell_type": "code",
   "execution_count": 27,
   "metadata": {},
   "outputs": [],
   "source": [
    "L = ['a', 'a', 'b']\n",
    "assert dedup(L) == ['a', 'b']"
   ]
  },
  {
   "cell_type": "markdown",
   "metadata": {},
   "source": [
    "### Nombre minimal dans une liste\n",
    "\n",
    "Soit une liste ne contenant que des valeurs numériques. Ecrire une fonction qui retourne la valeur minimale de cette liste"
   ]
  },
  {
   "cell_type": "code",
   "execution_count": 28,
   "metadata": {},
   "outputs": [],
   "source": [
    "def minimum(L):\n",
    "    m = L[0]\n",
    "    for l in L:\n",
    "        if l<m:\n",
    "            m=l\n",
    "    return m"
   ]
  },
  {
   "cell_type": "code",
   "execution_count": 29,
   "metadata": {},
   "outputs": [],
   "source": [
    "L = range(100)\n",
    "assert minimum(L) == min(L)"
   ]
  },
  {
   "cell_type": "markdown",
   "metadata": {},
   "source": [
    "### Compter les lettres\n",
    "\n",
    "Soit la variable suivante\n",
    "```\n",
    "texte = \"abc\"\n",
    "```\n",
    "Construire un dictionnaire qui compte l'occurrence des lettres.\n",
    "```\n",
    "comptage <- {'a':1, 'b': ...}\n",
    "```\n",
    "Construire une fonction qui prend n'importe quel mot et envoie un dictionnaire d'occurences. L'utiliser sur la variable suivante\n",
    "```\n",
    "texte = \"anticonstitutionnellement\"\n",
    "```"
   ]
  },
  {
   "cell_type": "code",
   "execution_count": 30,
   "metadata": {},
   "outputs": [],
   "source": [
    "def nombre_lettres(texte):\n",
    "    comptage= {}\n",
    "    for s in texte:\n",
    "        if s not in comptage.keys():\n",
    "            comptage[s] = 0\n",
    "        comptage[s] += 1\n",
    "    return comptage"
   ]
  },
  {
   "cell_type": "code",
   "execution_count": 31,
   "metadata": {},
   "outputs": [],
   "source": [
    "texte = 'abc'\n",
    "comptage = nombre_lettres(texte)\n",
    "\n",
    "assert comptage == {'a':1, 'b':1, 'c':1}"
   ]
  },
  {
   "cell_type": "code",
   "execution_count": 32,
   "metadata": {},
   "outputs": [],
   "source": [
    "texte = \"anticonstitutionnellement\"\n",
    "assert nombre_lettres(texte) == \\\n",
    "        {'a': 1, 'n': 5, 't': 5, 'i': 3, 'c': 1, 'o': 2, 's': 1, 'u': 1, 'e': 3, 'l': 2, 'm': 1}"
   ]
  },
  {
   "cell_type": "markdown",
   "metadata": {},
   "source": [
    "il est également possible d'utiliser des structures de données plus spécialisées, dans le module `collections`"
   ]
  },
  {
   "cell_type": "code",
   "execution_count": 33,
   "metadata": {},
   "outputs": [],
   "source": [
    "from collections import defaultdict\n",
    "\n",
    "comptage = defaultdict(int)\n",
    "\n",
    "for lettre in texte:\n",
    "    comptage[lettre] += 1\n",
    "\n",
    "assert comptage == \\\n",
    "        {'a': 1, 'n': 5, 't': 5, 'i': 3, 'c': 1, 'o': 2, 's': 1, 'u': 1, 'e': 3, 'l': 2, 'm': 1}"
   ]
  },
  {
   "cell_type": "code",
   "execution_count": 34,
   "metadata": {},
   "outputs": [],
   "source": [
    "from collections import Counter\n",
    "\n",
    "comptage = Counter(texte)\n",
    "assert comptage == \\\n",
    "        {'a': 1, 'n': 5, 't': 5, 'i': 3, 'c': 1, 'o': 2, 's': 1, 'u': 1, 'e': 3, 'l': 2, 'm': 1}"
   ]
  },
  {
   "cell_type": "markdown",
   "metadata": {},
   "source": [
    "Pour en savoir plus sur les différentes structures de données dans le module `collections`, vous pouvez consulter les liens suivants :\n",
    "- https://docs.python.org/3/library/collections.html\n",
    "- https://pymotw.com/3/collections/\n"
   ]
  },
  {
   "cell_type": "markdown",
   "metadata": {},
   "source": [
    "### Inverser une liste\n",
    "\n",
    "Ecrire une fonction qui prend une liste en entrée, qui renvoie la liste inversée. "
   ]
  },
  {
   "cell_type": "code",
   "execution_count": 35,
   "metadata": {},
   "outputs": [],
   "source": [
    "def inverse_list(to_inverse):\n",
    "    return to_inverse[::-1]"
   ]
  },
  {
   "cell_type": "markdown",
   "metadata": {},
   "source": [
    "**Note** : Il est trés important pour la suite de comprendre pourquoi il y a 2 fois `:` avant le `-1`"
   ]
  },
  {
   "cell_type": "code",
   "execution_count": 36,
   "metadata": {},
   "outputs": [],
   "source": [
    "to_inverse = ['a', 'b', 'c']\n",
    "assert inverse_list(to_inverse) == ['c', 'b', 'a']"
   ]
  }
 ],
 "metadata": {
  "kernelspec": {
   "display_name": "Python 3",
   "language": "python",
   "name": "python3"
  },
  "language_info": {
   "codemirror_mode": {
    "name": "ipython",
    "version": 3
   },
   "file_extension": ".py",
   "mimetype": "text/x-python",
   "name": "python",
   "nbconvert_exporter": "python",
   "pygments_lexer": "ipython3",
   "version": "3.6.8"
  }
 },
 "nbformat": 4,
 "nbformat_minor": 2
}
